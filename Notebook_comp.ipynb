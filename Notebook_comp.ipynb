{
 "cells": [
  {
   "cell_type": "markdown",
   "metadata": {},
   "source": [
    "### Introduction\n",
    "There are two (fictitious) independent store chains selling Kaggle merchandise that want to become the official outlet for all things Kaggle. The goal of the project is to help Kaggle figure out which of the store chains would have the best sales going forward. So, Kaggle has collected some data and is asking us to build forecasting models to help us decide.\n",
    "\n",
    "Help Kaggle figure out whether KaggleMart or KaggleRama should become the official Kaggle outlet!\n",
    "\n",
    "Kaggle competition link: https://www.kaggle.com/c/tabular-playground-series-jan-2022/overview"
   ]
  },
  {
   "cell_type": "markdown",
   "metadata": {},
   "source": [
    "### Download dataset from Kaggle if RELOAD flag is True"
   ]
  },
  {
   "cell_type": "code",
   "execution_count": 1,
   "metadata": {},
   "outputs": [],
   "source": [
    "# Flag to force to reload dataset\n",
    "RELOAD = False"
   ]
  },
  {
   "cell_type": "code",
   "execution_count": 2,
   "metadata": {},
   "outputs": [],
   "source": [
    "# import Kaggle API to load dataset\n",
    "import kaggle\n",
    "from kaggle.api.kaggle_api_extended import KaggleApi"
   ]
  },
  {
   "cell_type": "code",
   "execution_count": 3,
   "metadata": {},
   "outputs": [],
   "source": [
    "# initialize Kaggle API\n",
    "api = KaggleApi()\n",
    "api.authenticate()"
   ]
  },
  {
   "cell_type": "code",
   "execution_count": 4,
   "metadata": {},
   "outputs": [],
   "source": [
    "# download dataset from Kaggle to data folder\n",
    "data_path = 'data'\n",
    "api.competition_download_files('tabular-playground-series-jan-2022', data_path, force=RELOAD)\n",
    "# save filename: !ATTENTION! : it may not be wroking if many files are in folders\n",
    "# then just name it manually \n",
    "dataset_file_name = os.listdir(data_path)[0]"
   ]
  },
  {
   "cell_type": "code",
   "execution_count": 5,
   "metadata": {},
   "outputs": [
    {
     "name": "stdout",
     "output_type": "stream",
     "text": [
      "Shape of df: (26298, 6)\n",
      "Shape of df_validation: (6570, 5)\n",
      "Shape of df_subm_example: (6570, 2)\n"
     ]
    }
   ],
   "source": [
    "# import libraries to work with paths and to read zipped file, as was downloaded from Kaggle\n",
    "import os.path\n",
    "from zipfile import ZipFile\n",
    "# import pandas for EDA\n",
    "import pandas as pd\n",
    "# Read train dataset (train.csv) to pandas DataFrame named df: it will be used for analysis\n",
    "df = pd.read_csv(ZipFile(os.path.join(data_path, dataset_file_name)).open('train.csv'))\n",
    "# Read test dataset (test.csv), to pandas DataFrame named df_validation. It will be used only to generate final predictions, which will be submitted\n",
    "df_validation = pd.read_csv(ZipFile(os.path.join(data_path, dataset_file_name)).open('test.csv'))\n",
    "# finally, we will download example of submission (there are no correct predictions there, it is just an example)\n",
    "df_subm_example = pd.read_csv(ZipFile(os.path.join(data_path, dataset_file_name)).open('sample_submission.csv'))\n",
    "\n",
    "# Check, that all dataframes are loaded and have correct shapes (train should have six columns, \n",
    "# test should have 5 columns - no outcome, and sample submission should have two columns)\n",
    "print('Shape of df: ' + str(df.shape))\n",
    "print('Shape of df_validation: ' + str(df_validation.shape))\n",
    "print('Shape of df_subm_example: ' + str(df_subm_example.shape))"
   ]
  },
  {
   "cell_type": "markdown",
   "metadata": {},
   "source": [
    "### Exploratory Data Analysis"
   ]
  },
  {
   "cell_type": "code",
   "execution_count": 6,
   "metadata": {},
   "outputs": [
    {
     "name": "stdout",
     "output_type": "stream",
     "text": [
      "<class 'pandas.core.frame.DataFrame'>\n",
      "RangeIndex: 26298 entries, 0 to 26297\n",
      "Data columns (total 6 columns):\n",
      " #   Column    Non-Null Count  Dtype \n",
      "---  ------    --------------  ----- \n",
      " 0   row_id    26298 non-null  int64 \n",
      " 1   date      26298 non-null  object\n",
      " 2   country   26298 non-null  object\n",
      " 3   store     26298 non-null  object\n",
      " 4   product   26298 non-null  object\n",
      " 5   num_sold  26298 non-null  int64 \n",
      "dtypes: int64(2), object(4)\n",
      "memory usage: 1.2+ MB\n"
     ]
    }
   ],
   "source": [
    "# first look on dataset\n",
    "df.info()"
   ]
  },
  {
   "cell_type": "markdown",
   "metadata": {},
   "source": [
    "Train dataset contains 26298 entries and 6 columns. Let's take a look on each of them."
   ]
  },
  {
   "cell_type": "code",
   "execution_count": 7,
   "metadata": {},
   "outputs": [
    {
     "name": "stdout",
     "output_type": "stream",
     "text": [
      "row_id type: int64\n",
      "row_id head: \n",
      "0    0\n",
      "1    1\n",
      "2    2\n",
      "3    3\n",
      "4    4\n",
      "Name: row_id, dtype: int64\n",
      "row_id tail: \n",
      "26293    26293\n",
      "26294    26294\n",
      "26295    26295\n",
      "26296    26296\n",
      "26297    26297\n",
      "Name: row_id, dtype: int64\n"
     ]
    }
   ],
   "source": [
    "# row_id\n",
    "print('row_id type: ' + str(df.row_id.dtype))\n",
    "# it is an integer value\n",
    "\n",
    "# head, to check how data looks like\n",
    "print('row_id head: \\n' + str(df.row_id.head()))\n",
    "# looks like just an oreder number, let's check tail\n",
    "print('row_id tail: \\n' + str(df.row_id.tail()))"
   ]
  },
  {
   "cell_type": "code",
   "execution_count": 8,
   "metadata": {},
   "outputs": [
    {
     "data": {
      "text/plain": [
       "True"
      ]
     },
     "execution_count": 8,
     "metadata": {},
     "output_type": "execute_result"
    }
   ],
   "source": [
    "# check number of unique values\n",
    "df.row_id.nunique() == len(df)\n",
    "\n",
    "#df_row contains id of data entry"
   ]
  },
  {
   "cell_type": "code",
   "execution_count": 9,
   "metadata": {},
   "outputs": [
    {
     "data": {
      "text/plain": [
       "0"
      ]
     },
     "execution_count": 9,
     "metadata": {},
     "output_type": "execute_result"
    }
   ],
   "source": [
    "# Check for NaN:\n",
    "df.row_id.isna().sum()"
   ]
  },
  {
   "cell_type": "code",
   "execution_count": 10,
   "metadata": {},
   "outputs": [
    {
     "name": "stdout",
     "output_type": "stream",
     "text": [
      "date head: \n",
      "0    2015-01-01\n",
      "1    2015-01-01\n",
      "2    2015-01-01\n",
      "3    2015-01-01\n",
      "4    2015-01-01\n",
      "Name: date, dtype: object\n",
      "date tail: \n",
      "26293    2018-12-31\n",
      "26294    2018-12-31\n",
      "26295    2018-12-31\n",
      "26296    2018-12-31\n",
      "26297    2018-12-31\n",
      "Name: date, dtype: object\n"
     ]
    }
   ],
   "source": [
    "# date column\n",
    "# type is object\n",
    "# let's check head and tail:\n",
    "print('date head: \\n' + str(df.date.head()))\n",
    "print('date tail: \\n' + str(df.date.tail()))"
   ]
  },
  {
   "cell_type": "code",
   "execution_count": 11,
   "metadata": {},
   "outputs": [
    {
     "data": {
      "text/plain": [
       "1461"
      ]
     },
     "execution_count": 11,
     "metadata": {},
     "output_type": "execute_result"
    }
   ],
   "source": [
    "# date column has dates of entries from 1.1.2015 till 31.12.2018\n",
    "# number of unique dates:\n",
    "df.date.nunique()"
   ]
  },
  {
   "cell_type": "code",
   "execution_count": 12,
   "metadata": {},
   "outputs": [
    {
     "data": {
      "text/plain": [
       "0"
      ]
     },
     "execution_count": 12,
     "metadata": {},
     "output_type": "execute_result"
    }
   ],
   "source": [
    "# Check for NaN:\n",
    "df.date.isna().sum()"
   ]
  },
  {
   "cell_type": "code",
   "execution_count": 13,
   "metadata": {},
   "outputs": [
    {
     "data": {
      "text/plain": [
       "str"
      ]
     },
     "execution_count": 13,
     "metadata": {},
     "output_type": "execute_result"
    }
   ],
   "source": [
    "# check type of single entry in the column\n",
    "type(df.date[0])"
   ]
  },
  {
   "cell_type": "code",
   "execution_count": 14,
   "metadata": {},
   "outputs": [
    {
     "name": "stdout",
     "output_type": "stream",
     "text": [
      "Minimum values of records in one date: \n",
      "row_id      18\n",
      "country     18\n",
      "store       18\n",
      "product     18\n",
      "num_sold    18\n",
      "dtype: int64\n",
      "Maximum values of records in one date: \n",
      "row_id      18\n",
      "country     18\n",
      "store       18\n",
      "product     18\n",
      "num_sold    18\n",
      "dtype: int64\n"
     ]
    }
   ],
   "source": [
    "# how many records on each date?\n",
    "print('Minimum values of records in one date: \\n' + str(df.groupby('date').count().max()))\n",
    "print('Maximum values of records in one date: \\n' + str(df.groupby('date').count().min()))\n",
    "\n",
    "# Each day contains 18 records"
   ]
  },
  {
   "cell_type": "code",
   "execution_count": 15,
   "metadata": {},
   "outputs": [
    {
     "name": "stdout",
     "output_type": "stream",
     "text": [
      "country head: \n",
      "0    Finland\n",
      "1    Finland\n",
      "2    Finland\n",
      "3    Finland\n",
      "4    Finland\n",
      "Name: country, dtype: object\n",
      "country tail: \n",
      "26293    Sweden\n",
      "26294    Sweden\n",
      "26295    Sweden\n",
      "26296    Sweden\n",
      "26297    Sweden\n",
      "Name: country, dtype: object\n"
     ]
    }
   ],
   "source": [
    "# Check Country column\n",
    "# type is object\n",
    "# let's check head and tail:\n",
    "print('country head: \\n' + str(df.country.head()))\n",
    "print('country tail: \\n' + str(df.country.tail()))"
   ]
  },
  {
   "cell_type": "code",
   "execution_count": 16,
   "metadata": {},
   "outputs": [
    {
     "data": {
      "text/plain": [
       "3"
      ]
     },
     "execution_count": 16,
     "metadata": {},
     "output_type": "execute_result"
    }
   ],
   "source": [
    "# number of unique countries:\n",
    "df.country.nunique()"
   ]
  },
  {
   "cell_type": "code",
   "execution_count": 17,
   "metadata": {},
   "outputs": [
    {
     "data": {
      "text/plain": [
       "array(['Finland', 'Norway', 'Sweden'], dtype=object)"
      ]
     },
     "execution_count": 17,
     "metadata": {},
     "output_type": "execute_result"
    }
   ],
   "source": [
    "# only three unique values, let's print them:\n",
    "df.country.unique()"
   ]
  },
  {
   "cell_type": "code",
   "execution_count": 18,
   "metadata": {},
   "outputs": [
    {
     "data": {
      "text/plain": [
       "0"
      ]
     },
     "execution_count": 18,
     "metadata": {},
     "output_type": "execute_result"
    }
   ],
   "source": [
    "# Check for Nan\n",
    "df.country.isna().sum()"
   ]
  },
  {
   "cell_type": "code",
   "execution_count": 19,
   "metadata": {},
   "outputs": [
    {
     "data": {
      "text/html": [
       "<div>\n",
       "<style scoped>\n",
       "    .dataframe tbody tr th:only-of-type {\n",
       "        vertical-align: middle;\n",
       "    }\n",
       "\n",
       "    .dataframe tbody tr th {\n",
       "        vertical-align: top;\n",
       "    }\n",
       "\n",
       "    .dataframe thead th {\n",
       "        text-align: right;\n",
       "    }\n",
       "</style>\n",
       "<table border=\"1\" class=\"dataframe\">\n",
       "  <thead>\n",
       "    <tr style=\"text-align: right;\">\n",
       "      <th></th>\n",
       "      <th>row_id</th>\n",
       "      <th>date</th>\n",
       "      <th>store</th>\n",
       "      <th>product</th>\n",
       "      <th>num_sold</th>\n",
       "    </tr>\n",
       "    <tr>\n",
       "      <th>country</th>\n",
       "      <th></th>\n",
       "      <th></th>\n",
       "      <th></th>\n",
       "      <th></th>\n",
       "      <th></th>\n",
       "    </tr>\n",
       "  </thead>\n",
       "  <tbody>\n",
       "    <tr>\n",
       "      <th>Finland</th>\n",
       "      <td>8766</td>\n",
       "      <td>8766</td>\n",
       "      <td>8766</td>\n",
       "      <td>8766</td>\n",
       "      <td>8766</td>\n",
       "    </tr>\n",
       "    <tr>\n",
       "      <th>Norway</th>\n",
       "      <td>8766</td>\n",
       "      <td>8766</td>\n",
       "      <td>8766</td>\n",
       "      <td>8766</td>\n",
       "      <td>8766</td>\n",
       "    </tr>\n",
       "    <tr>\n",
       "      <th>Sweden</th>\n",
       "      <td>8766</td>\n",
       "      <td>8766</td>\n",
       "      <td>8766</td>\n",
       "      <td>8766</td>\n",
       "      <td>8766</td>\n",
       "    </tr>\n",
       "  </tbody>\n",
       "</table>\n",
       "</div>"
      ],
      "text/plain": [
       "         row_id  date  store  product  num_sold\n",
       "country                                        \n",
       "Finland    8766  8766   8766     8766      8766\n",
       "Norway     8766  8766   8766     8766      8766\n",
       "Sweden     8766  8766   8766     8766      8766"
      ]
     },
     "execution_count": 19,
     "metadata": {},
     "output_type": "execute_result"
    }
   ],
   "source": [
    "# Country column represents location of the store. Let's check how many entries from each country we have\n",
    "df.groupby('country').count()\n",
    "\n",
    "# For each country it is equal amount of records (8766)"
   ]
  },
  {
   "cell_type": "code",
   "execution_count": 20,
   "metadata": {},
   "outputs": [
    {
     "name": "stdout",
     "output_type": "stream",
     "text": [
      "store head: \n",
      "0    KaggleMart\n",
      "1    KaggleMart\n",
      "2    KaggleMart\n",
      "3    KaggleRama\n",
      "4    KaggleRama\n",
      "Name: store, dtype: object\n",
      "store tail: \n",
      "26293    KaggleMart\n",
      "26294    KaggleMart\n",
      "26295    KaggleRama\n",
      "26296    KaggleRama\n",
      "26297    KaggleRama\n",
      "Name: store, dtype: object\n"
     ]
    }
   ],
   "source": [
    "# store column\n",
    "# type is object\n",
    "# let's check head and tail:\n",
    "print('store head: \\n' + str(df.store.head()))\n",
    "print('store tail: \\n' + str(df.store.tail()))"
   ]
  },
  {
   "cell_type": "code",
   "execution_count": 21,
   "metadata": {},
   "outputs": [
    {
     "data": {
      "text/plain": [
       "2"
      ]
     },
     "execution_count": 21,
     "metadata": {},
     "output_type": "execute_result"
    }
   ],
   "source": [
    "# number of unique stores:\n",
    "df.store.nunique()"
   ]
  },
  {
   "cell_type": "code",
   "execution_count": 22,
   "metadata": {},
   "outputs": [
    {
     "data": {
      "text/plain": [
       "array(['KaggleMart', 'KaggleRama'], dtype=object)"
      ]
     },
     "execution_count": 22,
     "metadata": {},
     "output_type": "execute_result"
    }
   ],
   "source": [
    "# only two unique values, let's print them:\n",
    "df.store.unique()"
   ]
  },
  {
   "cell_type": "code",
   "execution_count": 23,
   "metadata": {},
   "outputs": [
    {
     "data": {
      "text/plain": [
       "0"
      ]
     },
     "execution_count": 23,
     "metadata": {},
     "output_type": "execute_result"
    }
   ],
   "source": [
    "# Check for Nan\n",
    "df.store.isna().sum()"
   ]
  },
  {
   "cell_type": "code",
   "execution_count": 24,
   "metadata": {},
   "outputs": [
    {
     "data": {
      "text/html": [
       "<div>\n",
       "<style scoped>\n",
       "    .dataframe tbody tr th:only-of-type {\n",
       "        vertical-align: middle;\n",
       "    }\n",
       "\n",
       "    .dataframe tbody tr th {\n",
       "        vertical-align: top;\n",
       "    }\n",
       "\n",
       "    .dataframe thead th {\n",
       "        text-align: right;\n",
       "    }\n",
       "</style>\n",
       "<table border=\"1\" class=\"dataframe\">\n",
       "  <thead>\n",
       "    <tr style=\"text-align: right;\">\n",
       "      <th></th>\n",
       "      <th>row_id</th>\n",
       "      <th>date</th>\n",
       "      <th>country</th>\n",
       "      <th>product</th>\n",
       "      <th>num_sold</th>\n",
       "    </tr>\n",
       "    <tr>\n",
       "      <th>store</th>\n",
       "      <th></th>\n",
       "      <th></th>\n",
       "      <th></th>\n",
       "      <th></th>\n",
       "      <th></th>\n",
       "    </tr>\n",
       "  </thead>\n",
       "  <tbody>\n",
       "    <tr>\n",
       "      <th>KaggleMart</th>\n",
       "      <td>13149</td>\n",
       "      <td>13149</td>\n",
       "      <td>13149</td>\n",
       "      <td>13149</td>\n",
       "      <td>13149</td>\n",
       "    </tr>\n",
       "    <tr>\n",
       "      <th>KaggleRama</th>\n",
       "      <td>13149</td>\n",
       "      <td>13149</td>\n",
       "      <td>13149</td>\n",
       "      <td>13149</td>\n",
       "      <td>13149</td>\n",
       "    </tr>\n",
       "  </tbody>\n",
       "</table>\n",
       "</div>"
      ],
      "text/plain": [
       "            row_id   date  country  product  num_sold\n",
       "store                                                \n",
       "KaggleMart   13149  13149    13149    13149     13149\n",
       "KaggleRama   13149  13149    13149    13149     13149"
      ]
     },
     "execution_count": 24,
     "metadata": {},
     "output_type": "execute_result"
    }
   ],
   "source": [
    "# Let's check how many entries from each store we have\n",
    "df.groupby('store').count()\n",
    "\n",
    "# For each store it is equal amount of records (13149)"
   ]
  },
  {
   "cell_type": "code",
   "execution_count": 25,
   "metadata": {},
   "outputs": [
    {
     "name": "stdout",
     "output_type": "stream",
     "text": [
      "product head: \n",
      "0        Kaggle Mug\n",
      "1        Kaggle Hat\n",
      "2    Kaggle Sticker\n",
      "3        Kaggle Mug\n",
      "4        Kaggle Hat\n",
      "Name: product, dtype: object\n",
      "product tail: \n",
      "26293        Kaggle Hat\n",
      "26294    Kaggle Sticker\n",
      "26295        Kaggle Mug\n",
      "26296        Kaggle Hat\n",
      "26297    Kaggle Sticker\n",
      "Name: product, dtype: object\n"
     ]
    }
   ],
   "source": [
    "# product column\n",
    "# type is object\n",
    "# let's check head and tail:\n",
    "print('product head: \\n' + str(df['product'].head()))\n",
    "print('product tail: \\n' + str(df['product'].tail()))"
   ]
  },
  {
   "cell_type": "code",
   "execution_count": 26,
   "metadata": {},
   "outputs": [
    {
     "data": {
      "text/plain": [
       "3"
      ]
     },
     "execution_count": 26,
     "metadata": {},
     "output_type": "execute_result"
    }
   ],
   "source": [
    "# number of unique products:\n",
    "df['product'].nunique()"
   ]
  },
  {
   "cell_type": "code",
   "execution_count": 27,
   "metadata": {},
   "outputs": [
    {
     "data": {
      "text/plain": [
       "array(['Kaggle Mug', 'Kaggle Hat', 'Kaggle Sticker'], dtype=object)"
      ]
     },
     "execution_count": 27,
     "metadata": {},
     "output_type": "execute_result"
    }
   ],
   "source": [
    "# only three unique values, let's print them:\n",
    "df['product'].unique()"
   ]
  },
  {
   "cell_type": "code",
   "execution_count": 28,
   "metadata": {},
   "outputs": [
    {
     "data": {
      "text/plain": [
       "0"
      ]
     },
     "execution_count": 28,
     "metadata": {},
     "output_type": "execute_result"
    }
   ],
   "source": [
    "# Check for Nan\n",
    "df['product'].isna().sum()"
   ]
  },
  {
   "cell_type": "code",
   "execution_count": 29,
   "metadata": {},
   "outputs": [
    {
     "data": {
      "text/html": [
       "<div>\n",
       "<style scoped>\n",
       "    .dataframe tbody tr th:only-of-type {\n",
       "        vertical-align: middle;\n",
       "    }\n",
       "\n",
       "    .dataframe tbody tr th {\n",
       "        vertical-align: top;\n",
       "    }\n",
       "\n",
       "    .dataframe thead th {\n",
       "        text-align: right;\n",
       "    }\n",
       "</style>\n",
       "<table border=\"1\" class=\"dataframe\">\n",
       "  <thead>\n",
       "    <tr style=\"text-align: right;\">\n",
       "      <th></th>\n",
       "      <th>row_id</th>\n",
       "      <th>date</th>\n",
       "      <th>country</th>\n",
       "      <th>store</th>\n",
       "      <th>num_sold</th>\n",
       "    </tr>\n",
       "    <tr>\n",
       "      <th>product</th>\n",
       "      <th></th>\n",
       "      <th></th>\n",
       "      <th></th>\n",
       "      <th></th>\n",
       "      <th></th>\n",
       "    </tr>\n",
       "  </thead>\n",
       "  <tbody>\n",
       "    <tr>\n",
       "      <th>Kaggle Hat</th>\n",
       "      <td>8766</td>\n",
       "      <td>8766</td>\n",
       "      <td>8766</td>\n",
       "      <td>8766</td>\n",
       "      <td>8766</td>\n",
       "    </tr>\n",
       "    <tr>\n",
       "      <th>Kaggle Mug</th>\n",
       "      <td>8766</td>\n",
       "      <td>8766</td>\n",
       "      <td>8766</td>\n",
       "      <td>8766</td>\n",
       "      <td>8766</td>\n",
       "    </tr>\n",
       "    <tr>\n",
       "      <th>Kaggle Sticker</th>\n",
       "      <td>8766</td>\n",
       "      <td>8766</td>\n",
       "      <td>8766</td>\n",
       "      <td>8766</td>\n",
       "      <td>8766</td>\n",
       "    </tr>\n",
       "  </tbody>\n",
       "</table>\n",
       "</div>"
      ],
      "text/plain": [
       "                row_id  date  country  store  num_sold\n",
       "product                                               \n",
       "Kaggle Hat        8766  8766     8766   8766      8766\n",
       "Kaggle Mug        8766  8766     8766   8766      8766\n",
       "Kaggle Sticker    8766  8766     8766   8766      8766"
      ]
     },
     "execution_count": 29,
     "metadata": {},
     "output_type": "execute_result"
    }
   ],
   "source": [
    "# Let's check how many entries from each product we have\n",
    "df.groupby('product').count()\n",
    "\n",
    "# For each product it is equal amount of records (8766)"
   ]
  },
  {
   "cell_type": "code",
   "execution_count": 30,
   "metadata": {},
   "outputs": [
    {
     "name": "stdout",
     "output_type": "stream",
     "text": [
      "num_sold type: int64\n",
      "num_sold head: \n",
      "0    329\n",
      "1    520\n",
      "2    146\n",
      "3    572\n",
      "4    911\n",
      "Name: num_sold, dtype: int64\n",
      "num_sold tail: \n",
      "26293     823\n",
      "26294     250\n",
      "26295    1004\n",
      "26296    1441\n",
      "26297     388\n",
      "Name: num_sold, dtype: int64\n"
     ]
    }
   ],
   "source": [
    "# num_sold column\n",
    "print('num_sold type: ' + str(df.num_sold.dtype))\n",
    "# it is an integer value\n",
    "# let's check head and tail:\n",
    "print('num_sold head: \\n' + str(df.num_sold.head()))\n",
    "print('num_sold tail: \\n' + str(df.num_sold.tail()))"
   ]
  },
  {
   "cell_type": "code",
   "execution_count": 31,
   "metadata": {},
   "outputs": [
    {
     "data": {
      "text/plain": [
       "1377"
      ]
     },
     "execution_count": 31,
     "metadata": {},
     "output_type": "execute_result"
    }
   ],
   "source": [
    "# number of unique stores:\n",
    "df.num_sold.nunique()"
   ]
  },
  {
   "cell_type": "code",
   "execution_count": 32,
   "metadata": {},
   "outputs": [
    {
     "data": {
      "text/plain": [
       "0"
      ]
     },
     "execution_count": 32,
     "metadata": {},
     "output_type": "execute_result"
    }
   ],
   "source": [
    "# Check for Nan\n",
    "df.num_sold.isna().sum()"
   ]
  }
 ],
 "metadata": {
  "interpreter": {
   "hash": "e50603f27c6847343212d94cfffbcc12eea4877738c9608a3404bb6552a08c2f"
  },
  "kernelspec": {
   "display_name": "Python 3.9.9 64-bit ('.venv': venv)",
   "language": "python",
   "name": "python3"
  },
  "language_info": {
   "codemirror_mode": {
    "name": "ipython",
    "version": 3
   },
   "file_extension": ".py",
   "mimetype": "text/x-python",
   "name": "python",
   "nbconvert_exporter": "python",
   "pygments_lexer": "ipython3",
   "version": "3.9.9"
  },
  "orig_nbformat": 4
 },
 "nbformat": 4,
 "nbformat_minor": 2
}
